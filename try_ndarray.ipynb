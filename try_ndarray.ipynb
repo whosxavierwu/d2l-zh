{
 "cells": [
  {
   "cell_type": "code",
   "execution_count": 26,
   "metadata": {},
   "outputs": [],
   "source": [
    "import mxnet\n",
    "from mxnet import nd\n",
    "from mxnet import autograd\n",
    "import numpy as np"
   ]
  },
  {
   "cell_type": "code",
   "execution_count": 4,
   "metadata": {},
   "outputs": [
    {
     "name": "stdout",
     "output_type": "stream",
     "text": [
      "\n",
      "[ 0.  1.  2.  3.  4.  5.  6.  7.  8.  9. 10. 11.]\n",
      "<NDArray 12 @cpu(0)>\n",
      "(12,) 12\n",
      "\n",
      "[[ 0.  1.  2.  3.]\n",
      " [ 4.  5.  6.  7.]\n",
      " [ 8.  9. 10. 11.]]\n",
      "<NDArray 3x4 @cpu(0)>\n",
      "(3, 4) 12\n"
     ]
    }
   ],
   "source": [
    "x = nd.arange(12)\n",
    "print(x)\n",
    "print(x.shape, x.size)\n",
    "\n",
    "X = x.reshape(3, 4)\n",
    "print(X)\n",
    "print(X.shape, X.size)\n"
   ]
  },
  {
   "cell_type": "code",
   "execution_count": 7,
   "metadata": {},
   "outputs": [
    {
     "name": "stdout",
     "output_type": "stream",
     "text": [
      "\n",
      "[[-0.59164983  0.8586049  -0.22794184]\n",
      " [ 0.20131476  0.35005474  0.5360521 ]\n",
      " [ 1.5194443   1.9040878  -1.5734432 ]\n",
      " [-0.14007865  0.29670078  1.3111951 ]]\n",
      "<NDArray 4x3 @cpu(0)>\n",
      "\n",
      "[[ 2.8199675  5.0483327  1.3227513]\n",
      " [ 6.7760897 18.686125   1.5062003]\n",
      " [10.732213  32.32392    1.6896486]]\n",
      "<NDArray 3x3 @cpu(0)>\n"
     ]
    }
   ],
   "source": [
    "# nd.zeros((2, 3, 4))\n",
    "# nd.ones((2, 3))\n",
    "# Y = nd.array([[2, 1, 4, 3], [1, 2, 3, 4], [4, 3, 2, 1]])\n",
    "\n",
    "Y = nd.random.normal(0, 1, (4, 3))\n",
    "print(Y)\n",
    "print(nd.dot(X, Y))"
   ]
  },
  {
   "cell_type": "code",
   "execution_count": 8,
   "metadata": {},
   "outputs": [
    {
     "name": "stdout",
     "output_type": "stream",
     "text": [
      "\n",
      "[[ 0.          1.          2.          3.        ]\n",
      " [ 4.          5.          6.          7.        ]\n",
      " [ 8.          9.         10.         11.        ]\n",
      " [-0.59164983  0.20131476  1.5194443  -0.14007865]\n",
      " [ 0.8586049   0.35005474  1.9040878   0.29670078]\n",
      " [-0.22794184  0.5360521  -1.5734432   1.3111951 ]]\n",
      "<NDArray 6x4 @cpu(0)>\n",
      "\n",
      "[[ 0.          1.          2.          3.         -0.59164983  0.20131476\n",
      "   1.5194443  -0.14007865]\n",
      " [ 4.          5.          6.          7.          0.8586049   0.35005474\n",
      "   1.9040878   0.29670078]\n",
      " [ 8.          9.         10.         11.         -0.22794184  0.5360521\n",
      "  -1.5734432   1.3111951 ]]\n",
      "<NDArray 3x8 @cpu(0)>\n"
     ]
    }
   ],
   "source": [
    "print(nd.concat(X, Y.T, dim=0))\n",
    "print(nd.concat(X, Y.T, dim=1))"
   ]
  },
  {
   "cell_type": "code",
   "execution_count": 9,
   "metadata": {},
   "outputs": [
    {
     "name": "stdout",
     "output_type": "stream",
     "text": [
      "\n",
      "[22.494442]\n",
      "<NDArray 1 @cpu(0)>\n",
      "22.494442\n"
     ]
    }
   ],
   "source": [
    "print(X.norm(2))\n",
    "print(X.norm(2).asscalar())"
   ]
  },
  {
   "cell_type": "code",
   "execution_count": 12,
   "metadata": {},
   "outputs": [
    {
     "name": "stdout",
     "output_type": "stream",
     "text": [
      "\n",
      "[[0.]\n",
      " [1.]\n",
      " [2.]]\n",
      "<NDArray 3x1 @cpu(0)>\n",
      "\n",
      "[[0. 1.]]\n",
      "<NDArray 1x2 @cpu(0)>\n",
      "\n",
      "[[0. 1.]\n",
      " [1. 2.]\n",
      " [2. 3.]]\n",
      "<NDArray 3x2 @cpu(0)>\n"
     ]
    }
   ],
   "source": [
    "# broadcasting\n",
    "A = nd.arange(3).reshape((3, 1))\n",
    "B = nd.arange(2).reshape((1, 2))\n",
    "print(A)\n",
    "print(B)\n",
    "print(A+B)"
   ]
  },
  {
   "cell_type": "code",
   "execution_count": 14,
   "metadata": {},
   "outputs": [
    {
     "name": "stdout",
     "output_type": "stream",
     "text": [
      "\n",
      "[[ 0.  1.  2.  3.]\n",
      " [ 4.  5.  6.  7.]\n",
      " [ 8.  9. 10. 11.]]\n",
      "<NDArray 3x4 @cpu(0)>\n",
      "\n",
      "[[ 4.  5.  6.  7.]\n",
      " [ 8.  9. 10. 11.]]\n",
      "<NDArray 2x4 @cpu(0)>\n"
     ]
    }
   ],
   "source": [
    "# index\n",
    "print(X)\n",
    "print(X[1:3])"
   ]
  },
  {
   "cell_type": "code",
   "execution_count": null,
   "metadata": {},
   "outputs": [],
   "source": []
  },
  {
   "cell_type": "code",
   "execution_count": 31,
   "metadata": {},
   "outputs": [
    {
     "name": "stdout",
     "output_type": "stream",
     "text": [
      "False\n",
      "True\n",
      "True\n"
     ]
    }
   ],
   "source": [
    "####### NOTE: memory\n",
    "before = id(X)\n",
    "X = X + Y.T\n",
    "print(id(X) == before)\n",
    "\n",
    "Z = X.zeros_like()\n",
    "before = id(Z)\n",
    "Z[:] = X + Y.T  # 实际上会先把结果存着再放到Z中\n",
    "print(id(Z) == before)\n",
    "\n",
    "# 最少内存消耗\n",
    "Z = X.zeros_like()\n",
    "before = id(Z)\n",
    "nd.elemwise_add(X, Y.T, out=Z)  # 直接把结果存到Z中\n",
    "print(id(Z) == before)"
   ]
  },
  {
   "cell_type": "code",
   "execution_count": null,
   "metadata": {},
   "outputs": [],
   "source": []
  },
  {
   "cell_type": "code",
   "execution_count": 29,
   "metadata": {},
   "outputs": [
    {
     "name": "stdout",
     "output_type": "stream",
     "text": [
      "\n",
      "[[1. 1. 1.]\n",
      " [1. 1. 1.]]\n",
      "<NDArray 2x3 @cpu(0)>\n",
      "[[-3.5498989   2.2078886  11.116667    2.1595287 ]\n",
      " [ 9.1516285   7.1003284  17.424528    8.780205  ]\n",
      " [ 6.632348   12.2163105   0.55934024 18.867172  ]]\n"
     ]
    }
   ],
   "source": [
    "# numpy <==> ndarray\n",
    "print(nd.array(np.ones((2, 3))))\n",
    "print(X.asnumpy())"
   ]
  },
  {
   "cell_type": "code",
   "execution_count": 32,
   "metadata": {},
   "outputs": [
    {
     "name": "stdout",
     "output_type": "stream",
     "text": [
      "\n",
      "[0. 1. 2. 3.]\n",
      "<NDArray 4 @cpu(0)>\n",
      "\n",
      "[[0. 1. 2. 3.]]\n",
      "<NDArray 1x4 @cpu(0)>\n",
      "\n",
      "[[0.]\n",
      " [1.]\n",
      " [2.]\n",
      " [3.]]\n",
      "<NDArray 4x1 @cpu(0)>\n"
     ]
    }
   ],
   "source": [
    "x = nd.arange(4)\n",
    "print(x)\n",
    "x = x.reshape([1, 4])\n",
    "print(x)\n",
    "x = x.reshape([4, 1])\n",
    "print(x)"
   ]
  },
  {
   "cell_type": "code",
   "execution_count": null,
   "metadata": {},
   "outputs": [],
   "source": [
    "nd.random.uniform?"
   ]
  },
  {
   "cell_type": "code",
   "execution_count": null,
   "metadata": {},
   "outputs": [],
   "source": []
  }
 ],
 "metadata": {
  "kernelspec": {
   "display_name": "Python 3",
   "language": "python",
   "name": "python3"
  },
  "language_info": {
   "codemirror_mode": {
    "name": "ipython",
    "version": 3
   },
   "file_extension": ".py",
   "mimetype": "text/x-python",
   "name": "python",
   "nbconvert_exporter": "python",
   "pygments_lexer": "ipython3",
   "version": "3.6.9"
  }
 },
 "nbformat": 4,
 "nbformat_minor": 2
}
