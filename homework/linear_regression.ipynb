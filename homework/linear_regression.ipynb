{
 "cells": [
  {
   "cell_type": "code",
   "execution_count": 96,
   "metadata": {},
   "outputs": [],
   "source": [
    "%matplotlib inline\n",
    "from IPython import display\n",
    "from matplotlib import pyplot as plt\n",
    "\n",
    "import numpy as np\n",
    "import random\n",
    "\n",
    "from mxnet import nd\n",
    "from mxnet import autograd\n",
    "from mxnet import gluon\n",
    "from mxnet import init"
   ]
  },
  {
   "cell_type": "code",
   "execution_count": null,
   "metadata": {},
   "outputs": [],
   "source": []
  },
  {
   "cell_type": "code",
   "execution_count": 107,
   "metadata": {},
   "outputs": [
    {
     "name": "stdout",
     "output_type": "stream",
     "text": [
      "w_true:  \n",
      "[[-0.31140256]\n",
      " [-0.86044616]]\n",
      "<NDArray 2x1 @cpu(0)>\n",
      "b_true \n",
      "[0.5948809]\n",
      "<NDArray 1 @cpu(0)>\n",
      "(1000, 2)\n",
      "(1000, 1)\n"
     ]
    },
    {
     "data": {
      "image/png": "[encoded data removed]",
      "text/plain": [
       "<Figure size 432x288 with 1 Axes>"
      ]
     },
     "metadata": {
      "needs_background": "light"
     },
     "output_type": "display_data"
    }
   ],
   "source": [
    "# create data\n",
    "num_of_features = 2\n",
    "num_of_examples = 1000\n",
    "\n",
    "w_true = nd.random.normal(0, 2, (num_of_features, 1))\n",
    "b_true = nd.random.normal()\n",
    "print('w_true: ', w_true)\n",
    "print('b_true', b_true)\n",
    "\n",
    "X_feats = nd.random.normal(0, 1, [num_of_examples, num_of_features])\n",
    "y_true = nd.dot(X_feats, w_true) + b_true + nd.random.normal(0, 0.01, [num_of_examples, 1])\n",
    "print(X_feats.shape)\n",
    "print(y_true.shape)\n",
    "\n",
    "plt.scatter(X_feats[:, 0].asnumpy(), y_true.asnumpy(), 1);\n",
    "plt.scatter(X_feats[:, 1].asnumpy(), y_true.asnumpy(), 1);\n",
    "plt.show()"
   ]
  },
  {
   "cell_type": "code",
   "execution_count": null,
   "metadata": {},
   "outputs": [],
   "source": []
  },
  {
   "cell_type": "code",
   "execution_count": 108,
   "metadata": {},
   "outputs": [
    {
     "name": "stdout",
     "output_type": "stream",
     "text": [
      "epoch 1, loss 0.001317\n",
      "epoch 2, loss 0.000049\n",
      "epoch 3, loss 0.000047\n",
      "epoch 4, loss 0.000047\n",
      "epoch 5, loss 0.000047\n",
      "epoch 6, loss 0.000047\n",
      "epoch 7, loss 0.000047\n",
      "epoch 8, loss 0.000047\n",
      "epoch 9, loss 0.000047\n",
      "epoch 10, loss 0.000047\n",
      "\n",
      "[[-0.31140256]\n",
      " [-0.86044616]]\n",
      "<NDArray 2x1 @cpu(0)> \n",
      "[[-0.3118826]\n",
      " [-0.8615732]]\n",
      "<NDArray 2x1 @cpu(0)>\n",
      "\n",
      "[-0.00160706]\n",
      "<NDArray 1 @cpu(0)>\n",
      "##############################\n",
      "\n",
      "[0.5948809]\n",
      "<NDArray 1 @cpu(0)> \n",
      "[0.59493476]\n",
      "<NDArray 1 @cpu(0)>\n",
      "\n",
      "[-5.38826e-05]\n",
      "<NDArray 1 @cpu(0)>\n"
     ]
    }
   ],
   "source": [
    "# Build Linear Regression using only NDArray & autograd\n",
    "def data_iter(batch_size, X_feats, y_true):\n",
    "    N = len(X_feats)\n",
    "    indices = list(range(N))\n",
    "    random.shuffle(indices)\n",
    "    for i in range(0, N, batch_size):\n",
    "        j = nd.array(indices[i: i + batch_size])\n",
    "        yield X_feats.take(j), y_true.take(j)\n",
    "    return \n",
    "\n",
    "def linreg(X, w, b):\n",
    "    return nd.dot(X, w) + b\n",
    "\n",
    "def squared_loss(y_hat, y):\n",
    "    return (y_hat - y.reshape(y_hat.shape)) ** 2 / 2\n",
    "\n",
    "def sgd(params, lr, batch_size):\n",
    "    for param in params:\n",
    "        param[:] = param - lr * param.grad / batch_size\n",
    "    return \n",
    "\n",
    "lr = 0.03\n",
    "num_of_epochs = 10\n",
    "batch_size = 10\n",
    "\n",
    "# initialize params\n",
    "w = nd.random.normal(0, 0.01, [num_of_features, 1])\n",
    "b = nd.zeros(shape=(1,))\n",
    "w.attach_grad()\n",
    "b.attach_grad()\n",
    "\n",
    "for ep in range(num_of_epochs):\n",
    "    for X, y in data_iter(batch_size, X_feats, y_true):\n",
    "        with autograd.record():\n",
    "            l = squared_loss(linreg(X, w, b), y)\n",
    "        l.backward()\n",
    "        sgd([w, b], lr, batch_size)\n",
    "    train_l = squared_loss(linreg(X_feats, w, b), y_true)\n",
    "    print('epoch %d, loss %f' % (ep + 1, train_l.mean().asnumpy()))\n",
    "    \n",
    "print(w_true, w)\n",
    "print(w_true.norm(1) - w.norm(1))\n",
    "print(\"#\" * 30)\n",
    "print(b_true, b)\n",
    "print(b_true.norm(1) - b.norm(1))"
   ]
  },
  {
   "cell_type": "code",
   "execution_count": 109,
   "metadata": {},
   "outputs": [
    {
     "name": "stdout",
     "output_type": "stream",
     "text": [
      "epoch 1, loss 0.001285\n",
      "epoch 2, loss 0.000049\n",
      "epoch 3, loss 0.000047\n",
      "epoch 4, loss 0.000047\n",
      "epoch 5, loss 0.000047\n",
      "epoch 6, loss 0.000047\n",
      "epoch 7, loss 0.000047\n",
      "epoch 8, loss 0.000047\n",
      "epoch 9, loss 0.000047\n",
      "epoch 10, loss 0.000047\n",
      "\n",
      "[[-0.31140256]\n",
      " [-0.86044616]]\n",
      "<NDArray 2x1 @cpu(0)> \n",
      "[[-0.3115403 -0.8604601]]\n",
      "<NDArray 1x2 @cpu(0)>\n",
      "\n",
      "[-0.00015163]\n",
      "<NDArray 1 @cpu(0)>\n",
      "##############################\n",
      "\n",
      "[0.5948809]\n",
      "<NDArray 1 @cpu(0)> \n",
      "[0.59552234]\n",
      "<NDArray 1 @cpu(0)>\n",
      "\n",
      "[-0.00064147]\n",
      "<NDArray 1 @cpu(0)>\n"
     ]
    }
   ],
   "source": [
    "# Build Linear Regression using gluon\n",
    "\n",
    "batch_size = 10\n",
    "dataset = gluon.data.ArrayDataset(X_feats, y_true)\n",
    "data_iter = gluon.data.DataLoader(dataset, batch_size, shuffle=True)\n",
    "\n",
    "net = gluon.nn.Sequential()\n",
    "net.add(gluon.nn.Dense(1))\n",
    "\n",
    "net.initialize(init.Normal(sigma=0.01))\n",
    "\n",
    "loss = gluon.loss.L2Loss()\n",
    "trainer = gluon.Trainer(net.collect_params(), 'sgd', {'learning_rate': 0.03})\n",
    "\n",
    "num_of_epochs = 10\n",
    "for epoch in range(1, num_of_epochs+1):\n",
    "    for X, y in data_iter:\n",
    "        with autograd.record():\n",
    "            l = loss(net(X), y)\n",
    "        l.backward()\n",
    "        trainer.step(batch_size)\n",
    "    l = loss(net(X_feats), y_true)\n",
    "    print('epoch %d, loss %f' % (epoch, l.mean().asnumpy()))\n",
    "\n",
    "dense = net[0]\n",
    "print(w_true, dense.weight.data())\n",
    "print(w_true.norm(1) - dense.weight.data().norm(1))\n",
    "print(\"#\" * 30)\n",
    "print(b_true, dense.bias.data())\n",
    "print(b_true.norm(1) - dense.bias.data().norm(1))"
   ]
  },
  {
   "cell_type": "code",
   "execution_count": 98,
   "metadata": {},
   "outputs": [],
   "source": []
  },
  {
   "cell_type": "code",
   "execution_count": 99,
   "metadata": {},
   "outputs": [],
   "source": []
  },
  {
   "cell_type": "code",
   "execution_count": null,
   "metadata": {},
   "outputs": [],
   "source": []
  },
  {
   "cell_type": "code",
   "execution_count": null,
   "metadata": {},
   "outputs": [],
   "source": []
  },
  {
   "cell_type": "code",
   "execution_count": null,
   "metadata": {},
   "outputs": [],
   "source": []
  },
  {
   "cell_type": "code",
   "execution_count": 67,
   "metadata": {},
   "outputs": [],
   "source": []
  },
  {
   "cell_type": "code",
   "execution_count": null,
   "metadata": {},
   "outputs": [],
   "source": []
  },
  {
   "cell_type": "code",
   "execution_count": null,
   "metadata": {},
   "outputs": [],
   "source": []
  }
 ],
 "metadata": {
  "kernelspec": {
   "display_name": "Python 3",
   "language": "python",
   "name": "python3"
  },
  "language_info": {
   "codemirror_mode": {
    "name": "ipython",
    "version": 3
   },
   "file_extension": ".py",
   "mimetype": "text/x-python",
   "name": "python",
   "nbconvert_exporter": "python",
   "pygments_lexer": "ipython3",
   "version": "3.6.9"
  }
 },
 "nbformat": 4,
 "nbformat_minor": 2
}
