{
 "cells": [
  {
   "cell_type": "code",
   "execution_count": 13,
   "metadata": {},
   "outputs": [],
   "source": [
    "%matplotlib inline \n",
    "from matplotlib import pyplot as plt\n",
    "\n",
    "from mxnet import nd, autograd\n",
    "from mxnet import gluon, init"
   ]
  },
  {
   "cell_type": "code",
   "execution_count": 11,
   "metadata": {},
   "outputs": [
    {
     "data": {
      "image/png": "[encoded data removed]",
      "text/plain": [
       "<Figure size 360x180 with 1 Axes>"
      ]
     },
     "metadata": {
      "needs_background": "light"
     },
     "output_type": "display_data"
    },
    {
     "data": {
      "image/png": "[encoded data removed]",
      "text/plain": [
       "<Figure size 360x180 with 1 Axes>"
      ]
     },
     "metadata": {
      "needs_background": "light"
     },
     "output_type": "display_data"
    }
   ],
   "source": [
    "def xyplot(x_vals, y_vals, name):\n",
    "    plt.rcParams['figure.figsize'] = (5, 2.5)\n",
    "    plt.plot(x_vals.asnumpy(), y_vals.asnumpy())\n",
    "    plt.xlabel('x')\n",
    "    plt.ylabel(name + '(x)')\n",
    "    plt.show()\n",
    "    return \n",
    "\n",
    "x = nd.arange(-8.0, 8.0, 0.1)\n",
    "x.attach_grad()\n",
    "with autograd.record():\n",
    "#     y = x.relu()\n",
    "#     y = x.sigmoid()\n",
    "    y = x.tanh()\n",
    "xyplot(x, y, 'f')\n",
    "\n",
    "y.backward()\n",
    "xyplot(x, x.grad, 'grad')"
   ]
  },
  {
   "cell_type": "code",
   "execution_count": null,
   "metadata": {},
   "outputs": [],
   "source": []
  },
  {
   "cell_type": "code",
   "execution_count": null,
   "metadata": {},
   "outputs": [],
   "source": [
    "\n"
   ]
  },
  {
   "cell_type": "code",
   "execution_count": 41,
   "metadata": {},
   "outputs": [
    {
     "name": "stdout",
     "output_type": "stream",
     "text": [
      "60000 10000\n",
      "(28, 28, 1) ()\n"
     ]
    }
   ],
   "source": [
    "\n",
    "\n",
    "def load_data_fashion_mnist(batch_size):\n",
    "    mnist_train = gluon.data.vision.FashionMNIST(train=True)\n",
    "    mnist_test = gluon.data.vision.FashionMNIST(train=False)\n",
    "    print(len(mnist_train), len(mnist_test))\n",
    "    feature, label = mnist_train[0]\n",
    "    print(mnist_train[0][0].shape, mnist_train[0][1].shape)\n",
    "    \n",
    "    num_workers = 4\n",
    "    transformer = gluon.data.vision.transforms.ToTensor()\n",
    "\n",
    "    train_iter = gluon.data.DataLoader(\n",
    "        mnist_train.transform_first(transformer),\n",
    "        batch_size, \n",
    "        shuffle=True, \n",
    "        num_workers=num_workers\n",
    "    )\n",
    "    test_iter = gluon.data.DataLoader(\n",
    "        mnist_test.transform_first(transformer),\n",
    "        batch_size, \n",
    "        shuffle=True, \n",
    "        num_workers=num_workers\n",
    "    )\n",
    "    return train_iter, test_iter\n",
    "\n",
    "def get_fashion_mnist_label_name(labels):\n",
    "    label_names = [\"t-shirt\", \"trouser\", \"pullover\", \"dress\", \"coat\", \"sandal\", \"shirt\", \"sneaker\", \"bag\", \"ankle boot\"]\n",
    "    return [label_names[int(i)] for i in labels]\n",
    "\n",
    "# def show_fashion_mnist(images, label_names):\n",
    "#     _, figs = plt.subplots(1, len(images), figsize=(12, 12))\n",
    "#     for f, img, label_name in zip(figs, images, label_names):\n",
    "#         f.imshow(img.reshape((28, 28)).asnumpy())\n",
    "#         f.set_title(label_name)\n",
    "#         f.axes.get_xaxis().set_visible(False)\n",
    "#         f.axes.get_yaxis().set_visible(False)\n",
    "#     plt.show()\n",
    "#     return \n",
    "\n",
    "\n",
    "def sgd(params, lr, batch_size):\n",
    "    for param in params:\n",
    "        param[:] = param - lr * param.grad / batch_size\n",
    "    return \n",
    "\n",
    "def evaluate_accuracy(data_iter, net):\n",
    "    acc_sum, n = 0.0, 0\n",
    "    for X, y in data_iter:\n",
    "        y = y.astype(\"float32\")\n",
    "        acc_sum += (net(X).argmax(axis=1) == y).sum().asscalar()\n",
    "        n += y.size\n",
    "    return acc_sum / n\n",
    "\n",
    "def train(net, train_iter, test_iter, loss, num_epochs, batch_size, params=None, lr=None, trainer=None):\n",
    "    for ep in range(1, num_epochs+1):\n",
    "        train_l_sum, train_acc_sum, n = 0.0, 0.0, 0\n",
    "        for X, y in train_iter:\n",
    "            with autograd.record():\n",
    "                y_hat = net(X)\n",
    "                l = loss(y_hat, y).sum()\n",
    "            l.backward()\n",
    "            if trainer is None:\n",
    "                sgd(params, lr, batch_size)\n",
    "            else:\n",
    "                trainer.step(batch_size)\n",
    "            y = y.astype('float32')\n",
    "            train_l_sum += l.asscalar()\n",
    "            train_acc_sum += (y_hat.argmax(axis=1) == y).sum().asscalar()\n",
    "            n += y.size\n",
    "        test_acc = evaluate_accuracy(test_iter, net)\n",
    "        print('epoch {}, loss {}, train acc {}, test acc {}'.format(ep, train_l_sum / n, train_acc_sum / n, test_acc))\n",
    "    return \n",
    "\n",
    "batch_size = 256\n",
    "train_iter, test_iter = load_data_fashion_mnist(batch_size)\n",
    "\n",
    "# X, y = mnist_train[:9]\n",
    "# show_fashion_mnist(X, get_fashion_mnist_label_name(y))"
   ]
  },
  {
   "cell_type": "code",
   "execution_count": 47,
   "metadata": {},
   "outputs": [
    {
     "name": "stdout",
     "output_type": "stream",
     "text": [
      "epoch 1, loss 0.8268781871795654, train acc 0.6904666666666667, test acc 0.8201\n",
      "epoch 2, loss 0.49746293614705406, train acc 0.8158833333333333, test acc 0.8511\n",
      "epoch 3, loss 0.43085319531758626, train acc 0.8402666666666667, test acc 0.851\n",
      "epoch 4, loss 0.3965172390619914, train acc 0.85385, test acc 0.8634\n",
      "epoch 5, loss 0.3726353977839152, train acc 0.8633833333333333, test acc 0.8729\n"
     ]
    }
   ],
   "source": [
    "num_inputs = 28*28\n",
    "num_outputs = 10\n",
    "num_hiddens = 256\n",
    "\n",
    "W1 = nd.random.normal(0, 0.01, (num_inputs, num_hiddens))\n",
    "b1 = nd.zeros(num_hiddens)\n",
    "W2 = nd.random.normal(0, 0.01, (num_hiddens, num_outputs))\n",
    "b2 = nd.zeros(num_outputs)\n",
    "\n",
    "params = [W1, b1, W2, b2]\n",
    "for param in params:\n",
    "    param.attach_grad()\n",
    "    \n",
    "def relu(X):\n",
    "    return nd.maximum(X, 0)\n",
    "\n",
    "def net(X):\n",
    "    X = X.reshape((-1, num_inputs))\n",
    "    H = relu(nd.dot(X, W1) + b1)\n",
    "    return nd.dot(H, W2) + b2\n",
    "\n",
    "loss = gluon.loss.SoftmaxCrossEntropyLoss()\n",
    "\n",
    "num_epochs = 5\n",
    "lr = 0.5\n",
    "\n",
    "train(net, train_iter, test_iter, loss, num_epochs, batch_size, params, lr)"
   ]
  },
  {
   "cell_type": "code",
   "execution_count": 46,
   "metadata": {},
   "outputs": [
    {
     "name": "stdout",
     "output_type": "stream",
     "text": [
      "epoch 1, loss 0.8085499666213989, train acc 0.6954, test acc 0.8189\n",
      "epoch 2, loss 0.49090032183329263, train acc 0.8178333333333333, test acc 0.8429\n",
      "epoch 3, loss 0.4282582037607829, train acc 0.8421166666666666, test acc 0.8383\n",
      "epoch 4, loss 0.3962734753926595, train acc 0.8519833333333333, test acc 0.8682\n",
      "epoch 5, loss 0.3772151584625244, train acc 0.8617833333333333, test acc 0.8692\n"
     ]
    }
   ],
   "source": [
    "net = gluon.nn.Sequential()\n",
    "net.add(\n",
    "    gluon.nn.Dense(256, activation='relu'), \n",
    "    gluon.nn.Dense(10)\n",
    ")\n",
    "net.initialize(init.Normal(sigma=0.01))\n",
    "\n",
    "loss = gluon.loss.SoftmaxCrossEntropyLoss()\n",
    "trainer = gluon.Trainer(net.collect_params(), 'sgd', {'learning_rate': 0.5})\n",
    "num_epchs = 5\n",
    "train(net, train_iter, test_iter, loss, num_epochs, batch_size, None, None, trainer)\n"
   ]
  },
  {
   "cell_type": "code",
   "execution_count": null,
   "metadata": {},
   "outputs": [],
   "source": []
  }
 ],
 "metadata": {
  "kernelspec": {
   "display_name": "Python 3",
   "language": "python",
   "name": "python3"
  },
  "language_info": {
   "codemirror_mode": {
    "name": "ipython",
    "version": 3
   },
   "file_extension": ".py",
   "mimetype": "text/x-python",
   "name": "python",
   "nbconvert_exporter": "python",
   "pygments_lexer": "ipython3",
   "version": "3.6.9"
  }
 },
 "nbformat": 4,
 "nbformat_minor": 2
}
