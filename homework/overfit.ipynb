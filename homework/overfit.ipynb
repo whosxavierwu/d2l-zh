{
 "cells": [
  {
   "cell_type": "code",
   "execution_count": 1,
   "metadata": {},
   "outputs": [],
   "source": [
    "%matplotlib inline \n",
    "from matplotlib import pyplot as plt\n",
    "\n",
    "from mxnet import nd, autograd\n",
    "from mxnet import gluon, init\n"
   ]
  },
  {
   "cell_type": "code",
   "execution_count": 26,
   "metadata": {},
   "outputs": [],
   "source": [
    "n_train = 100\n",
    "n_test = 100\n",
    "w_true = [1.2, -3.4, 5.6] \n",
    "b_true = 5\n",
    "\n",
    "# y = 1.2x - 3.4x^2 + 5.6x^3 + 5 + epsilon\n",
    "features = nd.random.normal(0, 1, (n_train + n_test, 1))\n",
    "poly_features = nd.concat(\n",
    "    features, \n",
    "    nd.power(features, 2), \n",
    "    nd.power(features, 3)\n",
    ")\n",
    "labels = w_true[0] * poly_features[:, 0] \\\n",
    "    + w_true[1] * poly_features[:, 1] \\\n",
    "    + w_true[2] * poly_features[:, 2] \\\n",
    "    + b_true\n",
    "labels += nd.random.normal(0, 0.01, labels.shape)\n",
    "\n",
    "\n"
   ]
  },
  {
   "cell_type": "code",
   "execution_count": null,
   "metadata": {},
   "outputs": [],
   "source": []
  },
  {
   "cell_type": "code",
   "execution_count": null,
   "metadata": {},
   "outputs": [],
   "source": []
  },
  {
   "cell_type": "code",
   "execution_count": null,
   "metadata": {},
   "outputs": [],
   "source": []
  },
  {
   "cell_type": "code",
   "execution_count": null,
   "metadata": {},
   "outputs": [],
   "source": []
  }
 ],
 "metadata": {
  "kernelspec": {
   "display_name": "Python 3",
   "language": "python",
   "name": "python3"
  },
  "language_info": {
   "codemirror_mode": {
    "name": "ipython",
    "version": 3
   },
   "file_extension": ".py",
   "mimetype": "text/x-python",
   "name": "python",
   "nbconvert_exporter": "python",
   "pygments_lexer": "ipython3",
   "version": "3.6.9"
  }
 },
 "nbformat": 4,
 "nbformat_minor": 2
}
