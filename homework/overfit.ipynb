{
 "cells": [
  {
   "cell_type": "code",
   "execution_count": 2,
   "metadata": {},
   "outputs": [],
   "source": [
    "%matplotlib inline \n",
    "from matplotlib import pyplot as plt\n",
    "\n",
    "from mxnet import nd, autograd\n",
    "from mxnet import gluon, init\n"
   ]
  },
  {
   "cell_type": "code",
   "execution_count": 21,
   "metadata": {},
   "outputs": [
    {
     "name": "stdout",
     "output_type": "stream",
     "text": [
      "(200, 3) (200,)\n"
     ]
    }
   ],
   "source": [
    "n_train = 100\n",
    "n_test = 100\n",
    "w_true = [1.2, -3.4, 5.6] \n",
    "b_true = 5\n",
    "\n",
    "# y = 1.2x - 3.4x^2 + 5.6x^3 + 5 + epsilon\n",
    "X_data_single = nd.random.normal(0, 1, (n_train + n_test, 1))\n",
    "X_data = nd.concat(\n",
    "    X_data_single, \n",
    "    nd.power(X_data_single, 2), \n",
    "    nd.power(X_data_single, 3)\n",
    ")\n",
    "y_data = w_true[0] * X_data[:, 0] \\\n",
    "    + w_true[1] * X_data[:, 1] \\\n",
    "    + w_true[2] * X_data[:, 2] \\\n",
    "    + b_true\n",
    "y_data += nd.random.normal(0, 0.01, y_data.shape)\n",
    "\n",
    "print(X_data.shape, y_data.shape)"
   ]
  },
  {
   "cell_type": "code",
   "execution_count": 26,
   "metadata": {},
   "outputs": [
    {
     "name": "stdout",
     "output_type": "stream",
     "text": [
      "epoch 100: train loss=0.000414571026340127, test loss=0.0006153404247015715\n"
     ]
    },
    {
     "data": {
      "image/png": "[encoded data removed]",
      "text/plain": [
       "<Figure size 576x432 with 1 Axes>"
      ]
     },
     "metadata": {
      "needs_background": "light"
     },
     "output_type": "display_data"
    },
    {
     "name": "stdout",
     "output_type": "stream",
     "text": [
      "weight: [[ 1.2073807 -3.3795223  5.597585 ]] \n",
      "bias: [4.967423]\n"
     ]
    }
   ],
   "source": [
    "def semilogy(\n",
    "    x_vals, y_vals, \n",
    "    x_label, y_label, \n",
    "    x2_vals=None, y2_vals=None, \n",
    "    legend=None, figsize=(3.5, 2.5)):\n",
    "    plt.rcParams['figure.figsize'] = figsize\n",
    "    plt.xlabel(x_label)\n",
    "    plt.ylabel(y_label)\n",
    "    plt.semilogy(x_vals, y_vals)\n",
    "    if x2_vals and y2_vals:\n",
    "        plt.semilogy(x2_vals, y2_vals, linestyle=':')\n",
    "        plt.legend(legend)\n",
    "    plt.show()\n",
    "    return \n",
    "\n",
    "num_epochs = 100\n",
    "loss = gluon.loss.L2Loss()\n",
    "\n",
    "def fit_and_plot(X_train, X_test, y_train, y_test):\n",
    "    net = gluon.nn.Sequential()\n",
    "    net.add(gluon.nn.Dense(1))\n",
    "    net.initialize()\n",
    "    batch_size = min(10, y_train.shape[0])\n",
    "    train_iter = gluon.data.DataLoader(\n",
    "        gluon.data.ArrayDataset(X_train, y_train), \n",
    "        batch_size, \n",
    "        shuffle=True\n",
    "    )\n",
    "    trainer = gluon.Trainer(net.collect_params(), 'sgd', {'learning_rate': 0.01})\n",
    "    train_ls, test_ls = [], []\n",
    "    for ep in range(1, num_epochs+1):\n",
    "        for X, y in train_iter:\n",
    "            with autograd.record():\n",
    "                l = loss(net(X), y)\n",
    "            l.backward()\n",
    "            trainer.step(batch_size)\n",
    "        l1 = loss(net(X_train), y_train).mean().asscalar()\n",
    "        l2 = loss(net(X_test), y_test).mean().asscalar()\n",
    "        train_ls.append(l1)\n",
    "        test_ls.append(l2)\n",
    "    print('epoch {}: train loss={}, test loss={}'.format(ep, l1, l2))\n",
    "    semilogy(\n",
    "        range(1, num_epochs+1), train_ls, 'epochs', 'loss', \n",
    "        range(1, num_epochs+1), test_ls,\n",
    "        ['train', 'test'], \n",
    "        figsize=(8, 6)\n",
    "    )\n",
    "    print('weight:', net[0].weight.data().asnumpy(), '\\nbias:', net[0].bias.data().asnumpy())\n",
    "    return \n",
    "\n",
    "fit_and_plot(X_data[:n_train, :], X_data[n_train:, :], y_data[:n_train], y_data[n_train:])\n",
    "# fit_and_plot(X_data_single[:n_train, :], X_data_single[n_train:, :], y_data[:n_train], y_data[n_train:])\n",
    "# fit_and_plot(X_data[0:2, :], X_data[n_train:, :], y_data[0:2], y_data[n_train:])"
   ]
  },
  {
   "cell_type": "code",
   "execution_count": null,
   "metadata": {},
   "outputs": [],
   "source": []
  },
  {
   "cell_type": "code",
   "execution_count": null,
   "metadata": {},
   "outputs": [],
   "source": []
  },
  {
   "cell_type": "code",
   "execution_count": null,
   "metadata": {},
   "outputs": [],
   "source": []
  }
 ],
 "metadata": {
  "kernelspec": {
   "display_name": "Python 3",
   "language": "python",
   "name": "python3"
  },
  "language_info": {
   "codemirror_mode": {
    "name": "ipython",
    "version": 3
   },
   "file_extension": ".py",
   "mimetype": "text/x-python",
   "name": "python",
   "nbconvert_exporter": "python",
   "pygments_lexer": "ipython3",
   "version": "3.6.9"
  }
 },
 "nbformat": 4,
 "nbformat_minor": 2
}
