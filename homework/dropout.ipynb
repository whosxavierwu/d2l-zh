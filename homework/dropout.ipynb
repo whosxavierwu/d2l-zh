{
 "cells": [
  {
   "cell_type": "code",
   "execution_count": 1,
   "metadata": {},
   "outputs": [],
   "source": [
    "%matplotlib inline \n",
    "from matplotlib import pyplot as plt\n",
    "\n",
    "from mxnet import nd, autograd, gluon, init"
   ]
  },
  {
   "cell_type": "code",
   "execution_count": 5,
   "metadata": {},
   "outputs": [
    {
     "name": "stdout",
     "output_type": "stream",
     "text": [
      "\n",
      "[[ 0.  1.  2.  3.  4.  5.  6.  7.]\n",
      " [ 8.  9. 10. 11. 12. 13. 14. 15.]]\n",
      "<NDArray 2x8 @cpu(0)>\n",
      "\n",
      "[[ 0.  0.  4.  0.  0. 10. 12.  0.]\n",
      " [ 0.  0.  0. 22. 24. 26. 28.  0.]]\n",
      "<NDArray 2x8 @cpu(0)>\n",
      "\n",
      "[[0. 0. 0. 0. 0. 0. 0. 0.]\n",
      " [0. 0. 0. 0. 0. 0. 0. 0.]]\n",
      "<NDArray 2x8 @cpu(0)>\n"
     ]
    }
   ],
   "source": [
    "def dropout(X, drop_prob):\n",
    "    assert 0 <= drop_prob <= 1\n",
    "    keep_prob = 1 - drop_prob\n",
    "    if keep_prob == 0: return X.zeros_like()\n",
    "    mask = nd.random.uniform(0, 1, X.shape) < keep_prob\n",
    "    return mask * X / keep_prob\n",
    "\n",
    "X = nd.arange(16).reshape((2, 8))\n",
    "print(dropout(X, 0))\n",
    "print(dropout(X, 0.5))\n",
    "print(dropout(X, 1))"
   ]
  },
  {
   "cell_type": "code",
   "execution_count": 11,
   "metadata": {},
   "outputs": [
    {
     "name": "stdout",
     "output_type": "stream",
     "text": [
      "60000 10000\n",
      "(28, 28, 1) ()\n",
      "epoch 1, loss 1.1891664789835612, train acc 0.5396833333333333, test acc 0.7837\n",
      "epoch 2, loss 0.5828975231806437, train acc 0.7824166666666666, test acc 0.8358\n",
      "epoch 3, loss 0.4904190071105957, train acc 0.8215333333333333, test acc 0.8519\n",
      "epoch 4, loss 0.45213590927124025, train acc 0.8354333333333334, test acc 0.8571\n",
      "epoch 5, loss 0.420484969774882, train acc 0.84715, test acc 0.8608\n"
     ]
    }
   ],
   "source": [
    "num_inputs = 28*28\n",
    "num_outputs = 10\n",
    "num_hiddens1 = 256\n",
    "num_hiddens2 = 256\n",
    "\n",
    "W1 = nd.random.normal(0, 0.01, (num_inputs, num_hiddens1))\n",
    "b1 = nd.zeros(num_hiddens1)\n",
    "W2 = nd.random.normal(0, 0.01, (num_hiddens1, num_hiddens2))\n",
    "b2 = nd.zeros(num_hiddens2)\n",
    "W3 = nd.random.normal(0, 0.01, (num_hiddens2, num_outputs))\n",
    "b3 = nd.zeros(num_outputs)\n",
    "\n",
    "params = [W1, b1, W2, b2, W3, b3]\n",
    "for param in params: \n",
    "    param.attach_grad()\n",
    "\n",
    "drop_prob1 = 0.2\n",
    "drop_prob2 = 0.5\n",
    "\n",
    "def net(X):\n",
    "    X = X.reshape((-1, num_inputs))\n",
    "    H1 = (nd.dot(X, W1) + b1).relu()\n",
    "    if autograd.is_training():\n",
    "        H1 = dropout(H1, drop_prob1)\n",
    "    H2 = (nd.dot(H1, W2) + b2).relu()\n",
    "    if autograd.is_training():\n",
    "        H2 = dropout(H2, drop_prob2)\n",
    "    return nd.dot(H2, W3) + b3\n",
    "\n",
    "def load_data_fashion_mnist(batch_size):\n",
    "    mnist_train = gluon.data.vision.FashionMNIST(train=True)\n",
    "    mnist_test = gluon.data.vision.FashionMNIST(train=False)\n",
    "    print(len(mnist_train), len(mnist_test))\n",
    "    feature, label = mnist_train[0]\n",
    "    print(mnist_train[0][0].shape, mnist_train[0][1].shape)\n",
    "    \n",
    "    num_workers = 4\n",
    "    transformer = gluon.data.vision.transforms.ToTensor()\n",
    "\n",
    "    train_iter = gluon.data.DataLoader(\n",
    "        mnist_train.transform_first(transformer),\n",
    "        batch_size, \n",
    "        shuffle=True, \n",
    "        num_workers=num_workers\n",
    "    )\n",
    "    test_iter = gluon.data.DataLoader(\n",
    "        mnist_test.transform_first(transformer),\n",
    "        batch_size, \n",
    "        shuffle=True, \n",
    "        num_workers=num_workers\n",
    "    )\n",
    "    return train_iter, test_iter\n",
    "\n",
    "def sgd(params, lr, batch_size):\n",
    "    for param in params:\n",
    "        param[:] = param - lr * param.grad / batch_size\n",
    "    return \n",
    "\n",
    "def evaluate_accuracy(data_iter, net):\n",
    "    acc_sum, n = 0.0, 0\n",
    "    for X, y in data_iter:\n",
    "        y = y.astype(\"float32\")\n",
    "        acc_sum += (net(X).argmax(axis=1) == y).sum().asscalar()\n",
    "        n += y.size\n",
    "    return acc_sum / n\n",
    "\n",
    "\n",
    "def train(net, train_iter, test_iter, loss, num_epochs, batch_size, params=None, lr=None, trainer=None):\n",
    "    for ep in range(1, num_epochs+1):\n",
    "        train_l_sum, train_acc_sum, n = 0.0, 0.0, 0\n",
    "        for X, y in train_iter:\n",
    "            with autograd.record():\n",
    "                y_hat = net(X)\n",
    "                l = loss(y_hat, y).sum()\n",
    "            l.backward()\n",
    "            if trainer is None:\n",
    "                sgd(params, lr, batch_size)\n",
    "            else:\n",
    "                trainer.step(batch_size)\n",
    "            y = y.astype('float32')\n",
    "            train_l_sum += l.asscalar()\n",
    "            train_acc_sum += (y_hat.argmax(axis=1) == y).sum().asscalar()\n",
    "            n += y.size\n",
    "        test_acc = evaluate_accuracy(test_iter, net)\n",
    "        print('epoch {}, loss {}, train acc {}, test acc {}'.format(ep, train_l_sum / n, train_acc_sum / n, test_acc))\n",
    "    return \n",
    "\n",
    "num_epochs = 5\n",
    "lr = 0.5\n",
    "batch_size = 256\n",
    "\n",
    "loss = gluon.loss.SoftmaxCrossEntropyLoss()\n",
    "train_iter, test_iter = load_data_fashion_mnist(batch_size)\n",
    "\n",
    "train(net, train_iter, test_iter, loss, num_epochs, batch_size, params, lr)"
   ]
  },
  {
   "cell_type": "code",
   "execution_count": 12,
   "metadata": {},
   "outputs": [
    {
     "name": "stdout",
     "output_type": "stream",
     "text": [
      "epoch 1, loss 1.1688278127034506, train acc 0.55075, test acc 0.7641\n",
      "epoch 2, loss 0.5909847119649251, train acc 0.7771833333333333, test acc 0.8248\n",
      "epoch 3, loss 0.5018488661766052, train acc 0.8161833333333334, test acc 0.8521\n",
      "epoch 4, loss 0.44974132232666014, train acc 0.8361166666666666, test acc 0.8596\n",
      "epoch 5, loss 0.42387184727986654, train acc 0.84695, test acc 0.8616\n"
     ]
    }
   ],
   "source": [
    "net = gluon.nn.Sequential()\n",
    "net.add(\n",
    "    gluon.nn.Dense(256, activation='relu'), \n",
    "    gluon.nn.Dropout(drop_prob1), \n",
    "    gluon.nn.Dense(256, activation='relu'), \n",
    "    gluon.nn.Dropout(drop_prob2), \n",
    "    gluon.nn.Dense(10)\n",
    ")\n",
    "net.initialize(init.Normal(sigma=0.01))\n",
    "\n",
    "trainer = gluon.Trainer(net.collect_params(), 'sgd', {'learning_rate': lr})\n",
    "train(net, train_iter, test_iter, loss, num_epochs, batch_size, None, None, trainer)"
   ]
  },
  {
   "cell_type": "code",
   "execution_count": null,
   "metadata": {},
   "outputs": [],
   "source": []
  }
 ],
 "metadata": {
  "kernelspec": {
   "display_name": "Python 3",
   "language": "python",
   "name": "python3"
  },
  "language_info": {
   "codemirror_mode": {
    "name": "ipython",
    "version": 3
   },
   "file_extension": ".py",
   "mimetype": "text/x-python",
   "name": "python",
   "nbconvert_exporter": "python",
   "pygments_lexer": "ipython3",
   "version": "3.6.9"
  }
 },
 "nbformat": 4,
 "nbformat_minor": 2
}
