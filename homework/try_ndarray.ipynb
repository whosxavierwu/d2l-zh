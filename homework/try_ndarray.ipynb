{
 "cells": [
  {
   "cell_type": "code",
   "execution_count": 1,
   "metadata": {},
   "outputs": [],
   "source": [
    "import mxnet\n",
    "from mxnet import nd\n",
    "from mxnet import autograd\n",
    "import numpy as np\n",
    "from time import time"
   ]
  },
  {
   "cell_type": "code",
   "execution_count": 32,
   "metadata": {},
   "outputs": [
    {
     "name": "stdout",
     "output_type": "stream",
     "text": [
      "0.0\n",
      "0.0\n"
     ]
    }
   ],
   "source": [
    "X = np.random.normal(0, 1, [3, 4])\n",
    "Y = np.random.normal(0, 1, [4, 3])\n",
    "t0 = time()\n",
    "np.dot(X, Y)\n",
    "t1 = time()\n",
    "\n",
    "X = nd.random.normal(0, 1, [3, 4])\n",
    "Y = nd.random.normal(0, 1, [4, 3])\n",
    "t2 = time()\n",
    "nd.dot(X, Y)\n",
    "t3 = time()\n",
    "\n",
    "print(t1 - t0)\n",
    "print(t3 - t2)"
   ]
  },
  {
   "cell_type": "code",
   "execution_count": 4,
   "metadata": {},
   "outputs": [
    {
     "name": "stdout",
     "output_type": "stream",
     "text": [
      "\n",
      "[ 0.  1.  2.  3.  4.  5.  6.  7.  8.  9. 10. 11.]\n",
      "<NDArray 12 @cpu(0)>\n",
      "(12,) 12\n",
      "\n",
      "[[ 0.  1.  2.  3.]\n",
      " [ 4.  5.  6.  7.]\n",
      " [ 8.  9. 10. 11.]]\n",
      "<NDArray 3x4 @cpu(0)>\n",
      "(3, 4) 12\n"
     ]
    }
   ],
   "source": [
    "x = nd.arange(12)\n",
    "print(x)\n",
    "print(x.shape, x.size)\n",
    "\n",
    "X = x.reshape(3, 4)\n",
    "print(X)\n",
    "print(X.shape, X.size)\n"
   ]
  },
  {
   "cell_type": "code",
   "execution_count": 7,
   "metadata": {},
   "outputs": [
    {
     "name": "stdout",
     "output_type": "stream",
     "text": [
      "\n",
      "[[-0.59164983  0.8586049  -0.22794184]\n",
      " [ 0.20131476  0.35005474  0.5360521 ]\n",
      " [ 1.5194443   1.9040878  -1.5734432 ]\n",
      " [-0.14007865  0.29670078  1.3111951 ]]\n",
      "<NDArray 4x3 @cpu(0)>\n",
      "\n",
      "[[ 2.8199675  5.0483327  1.3227513]\n",
      " [ 6.7760897 18.686125   1.5062003]\n",
      " [10.732213  32.32392    1.6896486]]\n",
      "<NDArray 3x3 @cpu(0)>\n"
     ]
    }
   ],
   "source": [
    "# nd.zeros((2, 3, 4))\n",
    "# nd.ones((2, 3))\n",
    "# Y = nd.array([[2, 1, 4, 3], [1, 2, 3, 4], [4, 3, 2, 1]])\n",
    "\n",
    "Y = nd.random.normal(0, 1, (4, 3))\n",
    "print(Y)\n",
    "print(nd.dot(X, Y))"
   ]
  },
  {
   "cell_type": "code",
   "execution_count": 8,
   "metadata": {},
   "outputs": [
    {
     "name": "stdout",
     "output_type": "stream",
     "text": [
      "\n",
      "[[ 0.          1.          2.          3.        ]\n",
      " [ 4.          5.          6.          7.        ]\n",
      " [ 8.          9.         10.         11.        ]\n",
      " [-0.59164983  0.20131476  1.5194443  -0.14007865]\n",
      " [ 0.8586049   0.35005474  1.9040878   0.29670078]\n",
      " [-0.22794184  0.5360521  -1.5734432   1.3111951 ]]\n",
      "<NDArray 6x4 @cpu(0)>\n",
      "\n",
      "[[ 0.          1.          2.          3.         -0.59164983  0.20131476\n",
      "   1.5194443  -0.14007865]\n",
      " [ 4.          5.          6.          7.          0.8586049   0.35005474\n",
      "   1.9040878   0.29670078]\n",
      " [ 8.          9.         10.         11.         -0.22794184  0.5360521\n",
      "  -1.5734432   1.3111951 ]]\n",
      "<NDArray 3x8 @cpu(0)>\n"
     ]
    }
   ],
   "source": [
    "print(nd.concat(X, Y.T, dim=0))\n",
    "print(nd.concat(X, Y.T, dim=1))"
   ]
  },
  {
   "cell_type": "code",
   "execution_count": 9,
   "metadata": {},
   "outputs": [
    {
     "name": "stdout",
     "output_type": "stream",
     "text": [
      "\n",
      "[22.494442]\n",
      "<NDArray 1 @cpu(0)>\n",
      "22.494442\n"
     ]
    }
   ],
   "source": [
    "print(X.norm(2))\n",
    "print(X.norm(2).asscalar())"
   ]
  },
  {
   "cell_type": "code",
   "execution_count": 12,
   "metadata": {},
   "outputs": [
    {
     "name": "stdout",
     "output_type": "stream",
     "text": [
      "\n",
      "[[0.]\n",
      " [1.]\n",
      " [2.]]\n",
      "<NDArray 3x1 @cpu(0)>\n",
      "\n",
      "[[0. 1.]]\n",
      "<NDArray 1x2 @cpu(0)>\n",
      "\n",
      "[[0. 1.]\n",
      " [1. 2.]\n",
      " [2. 3.]]\n",
      "<NDArray 3x2 @cpu(0)>\n"
     ]
    }
   ],
   "source": [
    "# broadcasting\n",
    "A = nd.arange(3).reshape((3, 1))\n",
    "B = nd.arange(2).reshape((1, 2))\n",
    "print(A)\n",
    "print(B)\n",
    "print(A+B)"
   ]
  },
  {
   "cell_type": "code",
   "execution_count": 14,
   "metadata": {},
   "outputs": [
    {
     "name": "stdout",
     "output_type": "stream",
     "text": [
      "\n",
      "[[ 0.  1.  2.  3.]\n",
      " [ 4.  5.  6.  7.]\n",
      " [ 8.  9. 10. 11.]]\n",
      "<NDArray 3x4 @cpu(0)>\n",
      "\n",
      "[[ 4.  5.  6.  7.]\n",
      " [ 8.  9. 10. 11.]]\n",
      "<NDArray 2x4 @cpu(0)>\n"
     ]
    }
   ],
   "source": [
    "# index\n",
    "print(X)\n",
    "print(X[1:3])"
   ]
  },
  {
   "cell_type": "code",
   "execution_count": null,
   "metadata": {},
   "outputs": [],
   "source": []
  },
  {
   "cell_type": "code",
   "execution_count": 31,
   "metadata": {},
   "outputs": [
    {
     "name": "stdout",
     "output_type": "stream",
     "text": [
      "False\n",
      "True\n",
      "True\n"
     ]
    }
   ],
   "source": [
    "####### NOTE: memory\n",
    "before = id(X)\n",
    "X = X + Y.T\n",
    "print(id(X) == before)\n",
    "\n",
    "Z = X.zeros_like()\n",
    "before = id(Z)\n",
    "Z[:] = X + Y.T  # 实际上会先把结果存着再放到Z中\n",
    "print(id(Z) == before)\n",
    "\n",
    "# 最少内存消耗\n",
    "Z = X.zeros_like()\n",
    "before = id(Z)\n",
    "nd.elemwise_add(X, Y.T, out=Z)  # 直接把结果存到Z中\n",
    "print(id(Z) == before)"
   ]
  },
  {
   "cell_type": "code",
   "execution_count": null,
   "metadata": {},
   "outputs": [],
   "source": []
  },
  {
   "cell_type": "code",
   "execution_count": 29,
   "metadata": {},
   "outputs": [
    {
     "name": "stdout",
     "output_type": "stream",
     "text": [
      "\n",
      "[[1. 1. 1.]\n",
      " [1. 1. 1.]]\n",
      "<NDArray 2x3 @cpu(0)>\n",
      "[[-3.5498989   2.2078886  11.116667    2.1595287 ]\n",
      " [ 9.1516285   7.1003284  17.424528    8.780205  ]\n",
      " [ 6.632348   12.2163105   0.55934024 18.867172  ]]\n"
     ]
    }
   ],
   "source": [
    "# numpy <==> ndarray\n",
    "print(nd.array(np.ones((2, 3))))\n",
    "print(X.asnumpy())"
   ]
  },
  {
   "cell_type": "code",
   "execution_count": 32,
   "metadata": {},
   "outputs": [
    {
     "name": "stdout",
     "output_type": "stream",
     "text": [
      "\n",
      "[0. 1. 2. 3.]\n",
      "<NDArray 4 @cpu(0)>\n",
      "\n",
      "[[0. 1. 2. 3.]]\n",
      "<NDArray 1x4 @cpu(0)>\n",
      "\n",
      "[[0.]\n",
      " [1.]\n",
      " [2.]\n",
      " [3.]]\n",
      "<NDArray 4x1 @cpu(0)>\n"
     ]
    }
   ],
   "source": [
    "x = nd.arange(4)\n",
    "print(x)\n",
    "x = x.reshape([1, 4])\n",
    "print(x)\n",
    "x = x.reshape([4, 1])\n",
    "print(x)"
   ]
  },
  {
   "cell_type": "code",
   "execution_count": null,
   "metadata": {},
   "outputs": [],
   "source": [
    "nd.random.uniform?"
   ]
  },
  {
   "cell_type": "code",
   "execution_count": 2,
   "metadata": {},
   "outputs": [
    {
     "name": "stdout",
     "output_type": "stream",
     "text": [
      "\n",
      "[[1. 2. 3.]\n",
      " [4. 5. 6.]]\n",
      "<NDArray 2x3 @cpu(0)>\n",
      "\n",
      "[[5. 7. 9.]]\n",
      "<NDArray 1x3 @cpu(0)>\n",
      "\n",
      "[5. 7. 9.]\n",
      "<NDArray 3 @cpu(0)>\n",
      "\n",
      "[[ 6.]\n",
      " [15.]]\n",
      "<NDArray 2x1 @cpu(0)>\n",
      "\n",
      "[ 6. 15.]\n",
      "<NDArray 2 @cpu(0)>\n"
     ]
    }
   ],
   "source": [
    "X = nd.array([[1, 2, 3], [4, 5, 6]])\n",
    "print(X)\n",
    "print(X.sum(axis=0, keepdims=True))\n",
    "print(X.sum(axis=0, keepdims=False))\n",
    "print(X.sum(axis=1, keepdims=True))\n",
    "print(X.sum(axis=1, keepdims=False))"
   ]
  },
  {
   "cell_type": "code",
   "execution_count": 3,
   "metadata": {},
   "outputs": [
    {
     "name": "stdout",
     "output_type": "stream",
     "text": [
      "Help on function pick:\n",
      "\n",
      "pick(data=None, index=None, axis=_Null, keepdims=_Null, mode=_Null, out=None, name=None, **kwargs)\n",
      "    Picks elements from an input array according to the input indices along the given axis.\n",
      "    \n",
      "    Given an input array of shape ``(d0, d1)`` and indices of shape ``(i0,)``, the result will be\n",
      "    an output array of shape ``(i0,)`` with::\n",
      "    \n",
      "      output[i] = input[i, indices[i]]\n",
      "    \n",
      "    By default, if any index mentioned is too large, it is replaced by the index that addresses\n",
      "    the last element along an axis (the `clip` mode).\n",
      "    \n",
      "    This function supports n-dimensional input and (n-1)-dimensional indices arrays.\n",
      "    \n",
      "    Examples::\n",
      "    \n",
      "      x = [[ 1.,  2.],\n",
      "           [ 3.,  4.],\n",
      "           [ 5.,  6.]]\n",
      "    \n",
      "      // picks elements with specified indices along axis 0\n",
      "      pick(x, y=[0,1], 0) = [ 1.,  4.]\n",
      "    \n",
      "      // picks elements with specified indices along axis 1\n",
      "      pick(x, y=[0,1,0], 1) = [ 1.,  4.,  5.]\n",
      "    \n",
      "      y = [[ 1.],\n",
      "           [ 0.],\n",
      "           [ 2.]]\n",
      "    \n",
      "      // picks elements with specified indices along axis 1 using 'wrap' mode\n",
      "      // to place indicies that would normally be out of bounds\n",
      "      pick(x, y=[2,-1,-2], 1, mode='wrap') = [ 1.,  4.,  5.]\n",
      "    \n",
      "      y = [[ 1.],\n",
      "           [ 0.],\n",
      "           [ 2.]]\n",
      "    \n",
      "      // picks elements with specified indices along axis 1 and dims are maintained\n",
      "      pick(x,y, 1, keepdims=True) = [[ 2.],\n",
      "                                     [ 3.],\n",
      "                                     [ 6.]]\n",
      "    \n",
      "    \n",
      "    \n",
      "    Defined in C:\\Jenkins\\workspace\\mxnet-tag\\mxnet\\src\\operator\\tensor\\broadcast_reduce_op_index.cc:L154\n",
      "    \n",
      "    Parameters\n",
      "    ----------\n",
      "    data : NDArray\n",
      "        The input array\n",
      "    index : NDArray\n",
      "        The index array\n",
      "    axis : int or None, optional, default='-1'\n",
      "        int or None. The axis to picking the elements. Negative values means indexing from right to left. If is `None`, the elements in the index w.r.t the flattened input will be picked.\n",
      "    keepdims : boolean, optional, default=0\n",
      "        If true, the axis where we pick the elements is left in the result as dimension with size one.\n",
      "    mode : {'clip', 'wrap'},optional, default='clip'\n",
      "        Specify how out-of-bound indices behave. Default is \"clip\". \"clip\" means clip to the range. So, if all indices mentioned are too large, they are replaced by the index that addresses the last element along an axis.  \"wrap\" means to wrap around.\n",
      "    \n",
      "    out : NDArray, optional\n",
      "        The output NDArray to hold the result.\n",
      "    \n",
      "    Returns\n",
      "    -------\n",
      "    out : NDArray or list of NDArrays\n",
      "        The output of this function.\n",
      "\n"
     ]
    }
   ],
   "source": [
    "help(nd.pick)"
   ]
  }
 ],
 "metadata": {
  "kernelspec": {
   "display_name": "Python 3",
   "language": "python",
   "name": "python3"
  },
  "language_info": {
   "codemirror_mode": {
    "name": "ipython",
    "version": 3
   },
   "file_extension": ".py",
   "mimetype": "text/x-python",
   "name": "python",
   "nbconvert_exporter": "python",
   "pygments_lexer": "ipython3",
   "version": "3.6.9"
  }
 },
 "nbformat": 4,
 "nbformat_minor": 2
}
