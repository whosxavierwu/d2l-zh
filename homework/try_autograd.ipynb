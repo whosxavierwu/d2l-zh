{
 "cells": [
  {
   "cell_type": "code",
   "execution_count": 2,
   "metadata": {},
   "outputs": [],
   "source": [
    "import numpy as np\n",
    "\n",
    "from mxnet import nd\n",
    "from mxnet import autograd\n"
   ]
  },
  {
   "cell_type": "code",
   "execution_count": null,
   "metadata": {},
   "outputs": [],
   "source": []
  },
  {
   "cell_type": "code",
   "execution_count": 24,
   "metadata": {},
   "outputs": [
    {
     "name": "stdout",
     "output_type": "stream",
     "text": [
      "\n",
      "[[1.1630785 ]\n",
      " [0.4838046 ]\n",
      " [0.29956347]\n",
      " [0.15302546]]\n",
      "<NDArray 4x1 @cpu(0)>\n",
      "False\n",
      "False\n",
      "True\n",
      "True\n",
      "\n",
      "[[4.652314  ]\n",
      " [1.9352185 ]\n",
      " [1.1982539 ]\n",
      " [0.61210185]]\n",
      "<NDArray 4x1 @cpu(0)>\n"
     ]
    }
   ],
   "source": [
    "# x = nd.arange(4).reshape([4, 1])\n",
    "x = nd.random.normal(0, 1, [4, 1])\n",
    "print(x)\n",
    "\n",
    "# y = 2x*x\n",
    "# 申请内存 用于存储梯度结果\n",
    "x.attach_grad()\n",
    "\n",
    "print(autograd.is_training())\n",
    "print(autograd.is_recording())\n",
    "with autograd.record():\n",
    "    print(autograd.is_training())\n",
    "    print(autograd.is_recording())\n",
    "    y = 2 * nd.dot(x.T, x)\n",
    "\n",
    "# 计算梯度\n",
    "y.backward()\n",
    "\n",
    "assert (x.grad - 4 * x).norm().asscalar() == 0\n",
    "print(x.grad)"
   ]
  },
  {
   "cell_type": "code",
   "execution_count": 27,
   "metadata": {},
   "outputs": [],
   "source": [
    "######## 对控制流求梯度\n",
    "\n",
    "def f(a):\n",
    "    b = a * 2\n",
    "    while b.norm().asscalar() < 1000:\n",
    "        b = b * 2\n",
    "    if b.sum().asscalar() > 0:\n",
    "        c = b\n",
    "    else:\n",
    "        c = 100 * b\n",
    "    return c\n",
    "\n",
    "a = nd.random.normal(0, 1, 1)\n",
    "a.attach_grad()\n",
    "with autograd.record():\n",
    "    c = f(a)\n",
    "c.backward()"
   ]
  },
  {
   "cell_type": "code",
   "execution_count": 28,
   "metadata": {},
   "outputs": [
    {
     "data": {
      "text/plain": [
       "\n",
       "[1.]\n",
       "<NDArray 1 @cpu(0)>"
      ]
     },
     "execution_count": 28,
     "metadata": {},
     "output_type": "execute_result"
    }
   ],
   "source": [
    "a.grad == c / a"
   ]
  },
  {
   "cell_type": "code",
   "execution_count": null,
   "metadata": {},
   "outputs": [],
   "source": []
  },
  {
   "cell_type": "code",
   "execution_count": null,
   "metadata": {},
   "outputs": [],
   "source": []
  }
 ],
 "metadata": {
  "kernelspec": {
   "display_name": "Python 3",
   "language": "python",
   "name": "python3"
  },
  "language_info": {
   "codemirror_mode": {
    "name": "ipython",
    "version": 3
   },
   "file_extension": ".py",
   "mimetype": "text/x-python",
   "name": "python",
   "nbconvert_exporter": "python",
   "pygments_lexer": "ipython3",
   "version": "3.6.9"
  }
 },
 "nbformat": 4,
 "nbformat_minor": 2
}
